{
 "cells": [
  {
   "cell_type": "markdown",
   "id": "df40f945",
   "metadata": {},
   "source": [
    "$\\newcommand{\\bigO}[1]{\\mathcal{O}\\left(#1\\right)}$"
   ]
  },
  {
   "cell_type": "markdown",
   "id": "fb069154",
   "metadata": {},
   "source": [
    "# The 8 Queens Problem\n",
    "\n",
    "Given an $8 \\times 8$ chess board, we want to find all the possible ways to fit 8 queens in it without them threatening each other (see the valid solution below). To solve this problem we are required to use 2 distinct algorithm design techniques: *Brute Force* and either *Divide & Conquer* or *Dynamic Programming*.\n",
    "\n",
    "**Valid solution example:**\n",
    "\n",
    "|    |  0 |  1 |  2 |  3 |  4 |  5 |  6 |  7 |\n",
    "|:--:|:--:|:--:|:--:|:--:|:--:|:--:|:--:|:--:|\n",
    "|  0 | .  | .  | .  | .  | .  | ♛  | .  |  . |\n",
    "|  1 | .  | .  | .  | ♛  | .  | .  | .  |  . |\n",
    "|  2 | .  | .  | .  | .  | .  | .  | ♛  |  . |\n",
    "|  3 | ♛  | .  | .  | .  | .  | .  | .  |  . |\n",
    "|  4 | .  | .  | .  | .  | .  | .  | .  |  ♛ |\n",
    "|  5 | .  | ♛  | .  | .  | .  | .  | .  |  . |\n",
    "|  6 | .  | .  | .  | .  | ♛  | .  | .  |  . |\n",
    "|  7 | .  | .  | ♛  | .  | .  | .  | .  |  . |\n",
    "\n",
    "To avoid any possible error when trying to print unicode characters, the programs will denote queens `♛` by `Q` and the `.` character is regarded as a blank space."
   ]
  },
  {
   "cell_type": "markdown",
   "id": "631c8798",
   "metadata": {},
   "source": [
    "# Brute Force Solution\n",
    "\n",
    "For the Brute Force solution we only need to find one valid configuration of the queens, thus we can use a randomized algorithm that chooses arbitrary and unique positions for the queens on the board  until it finds a valid solution. Since we know the 8 queens problem has at least a valid solution, this algorithm should eventually converge to one of them (there are 92 possible solutions)."
   ]
  },
  {
   "cell_type": "markdown",
   "id": "23afc8a2",
   "metadata": {},
   "source": [
    "## Libraries"
   ]
  },
  {
   "cell_type": "code",
   "execution_count": 1,
   "id": "1fd61a36",
   "metadata": {},
   "outputs": [],
   "source": [
    "#include <stdio.h>\n",
    "#include <stdlib.h>\n",
    "#include <time.h>\n",
    "\n",
    "#include <unordered_set>"
   ]
  },
  {
   "cell_type": "markdown",
   "id": "e681cc73",
   "metadata": {},
   "source": [
    "## Helper Functions"
   ]
  },
  {
   "cell_type": "markdown",
   "id": "7772bd30",
   "metadata": {},
   "source": [
    "### Get Row"
   ]
  },
  {
   "cell_type": "code",
   "execution_count": 2,
   "id": "9d969627",
   "metadata": {},
   "outputs": [],
   "source": [
    "int row(int pos) {\n",
    "    return pos / 8;\n",
    "}"
   ]
  },
  {
   "cell_type": "markdown",
   "id": "9301b631",
   "metadata": {},
   "source": [
    "#### Specific Time Complexity\n",
    "\n",
    "$$\\bigO{1}.$$\n",
    "\n",
    "#### General Time Complexity\n",
    "\n",
    "$$\\bigO{1}.$$"
   ]
  },
  {
   "cell_type": "markdown",
   "id": "f8ab3f57",
   "metadata": {},
   "source": [
    "### Get Column"
   ]
  },
  {
   "cell_type": "code",
   "execution_count": 3,
   "id": "f8d49a75",
   "metadata": {},
   "outputs": [],
   "source": [
    "int column(int pos) {\n",
    "    return pos % 8;\n",
    "}"
   ]
  },
  {
   "cell_type": "markdown",
   "id": "5ff0f660",
   "metadata": {},
   "source": [
    "#### Specific Time Complexity\n",
    "\n",
    "$$\\bigO{1}.$$\n",
    "\n",
    "#### General Time Complexity\n",
    "\n",
    "$$\\bigO{1}.$$"
   ]
  },
  {
   "cell_type": "markdown",
   "id": "c2779982",
   "metadata": {},
   "source": [
    "### Check Solution"
   ]
  },
  {
   "cell_type": "code",
   "execution_count": 4,
   "id": "bb1a5840",
   "metadata": {},
   "outputs": [],
   "source": [
    "bool checkSolution(std::unordered_set<int> queens) {\n",
    "    std::unordered_set<int> rows;\n",
    "    std::unordered_set<int> columns;\n",
    "    std::unordered_set<int> diagonalsR;\n",
    "    std::unordered_set<int> diagonalsL;\n",
    "    \n",
    "    for (auto it = queens.begin(); it != queens.end(); std::advance(it, 1)) {\n",
    "        int y = row(*it);\n",
    "        int x = column(*it);\n",
    "        rows.insert(y);\n",
    "        columns.insert(x);\n",
    "        diagonalsR.insert(y - x);\n",
    "        diagonalsL.insert(y + x);\n",
    "    }\n",
    "    \n",
    "    return (rows.size() + \n",
    "            columns.size() +\n",
    "            diagonalsR.size() + \n",
    "            diagonalsL.size() == 32);\n",
    "}"
   ]
  },
  {
   "cell_type": "markdown",
   "id": "b6e2ea22",
   "metadata": {},
   "source": [
    "### Specific Time Complexity\n",
    "\n",
    "$$\\bigO{22s + 20}$$\n",
    "\n",
    "### General Time Complexity\n",
    "\n",
    "$$\\bigO{s}$$"
   ]
  },
  {
   "cell_type": "markdown",
   "id": "95124db9",
   "metadata": {},
   "source": [
    "### Print Solution"
   ]
  },
  {
   "cell_type": "code",
   "execution_count": 5,
   "id": "2d829281",
   "metadata": {},
   "outputs": [],
   "source": [
    "void printSolution(std::unordered_set<int> queens) {\n",
    "    int position = 0;\n",
    "    for (unsigned short int i = 0; i < 8; ++i) {\n",
    "        for (unsigned short int j = 0; j < 8; ++j) {\n",
    "            if (queens.find(position) != queens.end())\n",
    "                printf(\"Q \");\n",
    "            else\n",
    "                printf(\". \");\n",
    "            ++position;\n",
    "        }\n",
    "        printf(\"\\n\");\n",
    "    }\n",
    "}"
   ]
  },
  {
   "cell_type": "markdown",
   "id": "14b374e8",
   "metadata": {},
   "source": [
    "### Specific Time Complexity\n",
    "\n",
    "$$\\bigO{508}.$$\n",
    "\n",
    "### General Time Complexity\n",
    "\n",
    "$$\\bigO{1}.$$"
   ]
  },
  {
   "cell_type": "markdown",
   "id": "de14de98",
   "metadata": {},
   "source": [
    "## Main"
   ]
  },
  {
   "cell_type": "code",
   "execution_count": 6,
   "id": "7fe0f29a",
   "metadata": {},
   "outputs": [
    {
     "name": "stdout",
     "output_type": "stream",
     "text": [
      "Valid solution found in 7726806 iteration(s)\n",
      ". . Q . . . . . \n",
      ". . . . . . Q . \n",
      ". Q . . . . . . \n",
      ". . . . . . . Q \n",
      ". . . . Q . . . \n",
      "Q . . . . . . . \n",
      ". . . Q . . . . \n",
      ". . . . . Q . . \n"
     ]
    }
   ],
   "source": [
    "srand(time(NULL));\n",
    "\n",
    "bool solved = false;\n",
    "int iterations = 0;\n",
    "\n",
    "// Board used to get random positions.\n",
    "std::unordered_set<int> positions({\n",
    "    0,  1,  2,  3,  4,  5,  6,  7,\n",
    "    8,  9,  10, 11, 12, 13, 14, 15, \n",
    "    16, 17, 18, 19, 20, 21, 22, 23, \n",
    "    24, 25, 26, 27, 28, 29, 30, 31, \n",
    "    32, 33, 34, 35, 35, 36, 37, 38,\n",
    "    39, 40, 41, 42, 43, 44, 45, 46, \n",
    "    47, 48, 49, 50, 51, 52, 53, 54, \n",
    "    56, 57, 58, 59, 60, 61, 62, 63\n",
    "});\n",
    "\n",
    "while (!solved) {\n",
    "    ++iterations;\n",
    "    std::unordered_set<int> queens;\n",
    "    \n",
    "    for (int i = 0; i < 8; ++i) {\n",
    "        std::unordered_set<int>::iterator it = positions.begin();\n",
    "        std::advance(it, rand() % positions.size());\n",
    "        queens.insert(*it);\n",
    "        positions.erase(it);    \n",
    "    }\n",
    "    \n",
    "    solved = checkSolution(queens);\n",
    "    if (solved) {\n",
    "        printf(\"Valid solution found in %i iteration(s)\\n\", iterations);\n",
    "        printSolution(queens);\n",
    "    }\n",
    "    else {\n",
    "        // Restore set\n",
    "        for (auto it = queens.begin(); it != queens.end(); std::advance(it, 1))\n",
    "            positions.insert(*it);\n",
    "    }\n",
    "}"
   ]
  },
  {
   "cell_type": "markdown",
   "id": "cb99ffc4",
   "metadata": {},
   "source": [
    "### Specific Time Complexity\n",
    "\n",
    "$$\\bigO{391n + 519}.$$\n",
    "\n",
    "### General Time Complexity\n",
    "\n",
    "$$\\bigO{n}.$$"
   ]
  },
  {
   "cell_type": "markdown",
   "id": "2dc329fb",
   "metadata": {},
   "source": [
    "# Dynamic Programming Solution\n",
    "\n",
    "It is obvious that for this problem 2 queens cannot be placed in the same row or column, thus a simple divide and conquer approach could be to place queens on each column and memoize the row, so that we reduce the possibilities dramatically: \n",
    "\n",
    "* First we can put a queen on any of the 8 rows of the first column \n",
    "\n",
    "* Then we only have 7 valid rows for the second column\n",
    "\n",
    "* Afterwards there are 6 rows for the third... \n",
    "\n",
    "* In general, for the $i$th column there are $8 - i$ possible positions to choose\n",
    "    \n",
    "Using the multiplication principle, this means the dynamic programming approach described has as little as $8!\\approx 40 000$ possibilities to check. We can even save some time by checking if any piece is threatened through the diagonals, given the fact that this can be computed in constant time and we could use recursion to backtrack."
   ]
  },
  {
   "cell_type": "markdown",
   "id": "8c88c22f",
   "metadata": {},
   "source": [
    "## Aditional Libraries"
   ]
  },
  {
   "cell_type": "code",
   "execution_count": 7,
   "id": "384e0707",
   "metadata": {},
   "outputs": [],
   "source": [
    "// Add file manipulation libraries\n",
    "#include <fstream>\n",
    "#include <string>"
   ]
  },
  {
   "cell_type": "markdown",
   "id": "027edd9b",
   "metadata": {},
   "source": [
    "## Helper Functions"
   ]
  },
  {
   "cell_type": "markdown",
   "id": "972e17da",
   "metadata": {},
   "source": [
    "### Append Solution"
   ]
  },
  {
   "cell_type": "code",
   "execution_count": 8,
   "id": "b496b81b",
   "metadata": {},
   "outputs": [],
   "source": [
    "void appendSolution(std::unordered_set<int> queens) {\n",
    "    std::ofstream out;\n",
    "    out.open(\"solutions.txt\", std::ios_base::app);\n",
    "    \n",
    "    int position = 0;\n",
    "    for (unsigned short int i = 0; i < 8; ++i) {\n",
    "        for (unsigned short int j = 0; j < 8; ++j) {\n",
    "            if (queens.find(position) != queens.end())\n",
    "                out << \"Q \";\n",
    "            else\n",
    "                out << \". \";\n",
    "            ++position;\n",
    "        }\n",
    "        out << \"\\n\";\n",
    "    }\n",
    "    out.close();\n",
    "}"
   ]
  },
  {
   "cell_type": "markdown",
   "id": "0471a128",
   "metadata": {},
   "source": [
    "#### Specific Time Complexity\n",
    "\n",
    "$$\\bigO{513}.$$\n",
    "\n",
    "#### General Time Complexity\n",
    "\n",
    "$$\\bigO{1}.$$"
   ]
  },
  {
   "cell_type": "markdown",
   "id": "898e1c80",
   "metadata": {},
   "source": [
    "## Recursive Solver and Main Function"
   ]
  },
  {
   "cell_type": "markdown",
   "id": "4e8e7cc5",
   "metadata": {},
   "source": [
    "### Solver"
   ]
  },
  {
   "cell_type": "code",
   "execution_count": 9,
   "id": "07f6110a",
   "metadata": {},
   "outputs": [],
   "source": [
    "bool solver(std::unordered_set<int> queens,\n",
    "            int column,\n",
    "            int row,\n",
    "            std::unordered_set<int> validRows, \n",
    "            std::unordered_set<int> validRightDiagonals, \n",
    "            std::unordered_set<int> validLeftDiagonals,\n",
    "            int* counter) {\n",
    "    // Remove currently used row\n",
    "    validRows.erase(row); \n",
    "\n",
    "    // Break branch if it tried to use an invalid diagonal\n",
    "    bool invalidRightDiagonal = validRightDiagonals.find(column - row) == validRightDiagonals.end();\n",
    "    bool invalidLeftDiagonal = validLeftDiagonals.find(column + row) == validLeftDiagonals.end();\n",
    "    if (invalidRightDiagonal || invalidLeftDiagonal)\n",
    "        return false;\n",
    "\n",
    "    // Remove threatened diagonals\n",
    "    validRightDiagonals.erase(column - row);\n",
    "    validLeftDiagonals.erase(column + row);\n",
    "\n",
    "    // Solution was valid for the column, we can increment it and check if we traversed the board                                    \n",
    "    if (++column == 8) {\n",
    "        ++counter[0];\n",
    "        appendSolution(queens);\n",
    "        return true;\n",
    "    }\n",
    "\n",
    "    // If we haven't traversed, branch for each valid row and try to solve the next column recursively\n",
    "    for (auto rowIt = validRows.begin(); rowIt != validRows.end(); std::advance(rowIt, 1)) {\n",
    "        queens.insert((*rowIt) * 8 + column);\n",
    "        solver(queens, column, *rowIt, validRows, validRightDiagonals, validLeftDiagonals, counter);\n",
    "        queens.erase((*rowIt) * 8 + column); \n",
    "    }\n",
    "    \n",
    "    return false;\n",
    "}"
   ]
  },
  {
   "cell_type": "markdown",
   "id": "bfc3b3d1",
   "metadata": {},
   "source": [
    "#### Complexity Analysis\n",
    "\n",
    "To obtain the time complexity of this function we are going to assign a weight to each line of code which corresponds to the number of instructions that are required to execute it. Then with that information, we can create a function that mimics the behaviour of this one, but that recieves an additional integer by reference that serves as an instruction counter. This method is valid, since the size of the board and the number of queens to place is fixed at 8, thus even if we check a lot of possible configurations the execution of the program will always be the same. Even though the size of the queens set and of the valid rows and diagonals varies with each call to the function, the queens array starts at a value of 1 the first time we call the function in main and it increases up to a maximum of 8, for the rows and diagonals, these start with a size of 7 and 14 respectively but they only decrease. Since insertion and deletion was done with sets to get constant time operations the program must be of constant general complexity ($\\bigO{1}$). \n",
    "\n",
    "Solving a more general $N$ queens problem would not allow for a constant time algorithm and searching through the possible configurations even with this optimized version of the algorithm takes non-polynomial instructions in the number of queens."
   ]
  },
  {
   "cell_type": "code",
   "execution_count": 10,
   "id": "26b76457",
   "metadata": {},
   "outputs": [],
   "source": [
    "bool solverCounter(std::unordered_set<int> queens,\n",
    "            int column,\n",
    "            int row,\n",
    "            std::unordered_set<int> validRows, \n",
    "            std::unordered_set<int> validRightDiagonals, \n",
    "            std::unordered_set<int> validLeftDiagonals,\n",
    "            int* counter,\n",
    "            int* instructions) {\n",
    "    // Remove currently used row\n",
    "    *instructions += 2; // Weight\n",
    "    validRows.erase(row); \n",
    "\n",
    "    // Break branch if it tried to use an invalid diagonal\n",
    "    *instructions += 16;// Weight\n",
    "    bool invalidRightDiagonal = validRightDiagonals.find(column - row) == validRightDiagonals.end();\n",
    "    bool invalidLeftDiagonal = validLeftDiagonals.find(column + row) == validLeftDiagonals.end();\n",
    "    \n",
    "    ++(*instructions); // Weight\n",
    "    if (invalidRightDiagonal || invalidLeftDiagonal)\n",
    "        return false;\n",
    "\n",
    "    // Remove threatened diagonals\n",
    "    *instructions += 6; // Weight\n",
    "    validRightDiagonals.erase(column - row);\n",
    "    validLeftDiagonals.erase(column + row);\n",
    "\n",
    "    // Solution was valid for the column, we can increment it and check if we traversed the board                                    \n",
    "    *instructions += 2; // Weight\n",
    "    if (++column == 8) {\n",
    "        *instructions += 2; // Weight\n",
    "        ++counter[0];\n",
    "        *instructions += 513; // Weight\n",
    "        //appendSolution(queens);\n",
    "        return true;\n",
    "    }\n",
    "\n",
    "    // If we haven't traversed, branch for each valid row and try to solve the next column recursively\n",
    "    *instructions += 4; // Weight\n",
    "    for (auto rowIt = validRows.begin(); rowIt != validRows.end(); std::advance(rowIt, 1)) {\n",
    "        *instructions += 3; // Loop Comparison Weight\n",
    "        \n",
    "        *instructions += 5; // Weight\n",
    "        queens.insert((*rowIt) * 8 + column);\n",
    "        \n",
    "        solverCounter(queens, column, *rowIt, validRows, validRightDiagonals, validLeftDiagonals, counter, instructions);\n",
    "        \n",
    "        *instructions += 5; // Weight\n",
    "        queens.erase((*rowIt) * 8 + column);\n",
    "        \n",
    "        *instructions += 1; // Loop Increment Weight\n",
    "    }\n",
    "    \n",
    "    return false;\n",
    "}"
   ]
  },
  {
   "cell_type": "markdown",
   "id": "f09e7f46",
   "metadata": {},
   "source": [
    "### Main"
   ]
  },
  {
   "cell_type": "code",
   "execution_count": 11,
   "id": "74e97068",
   "metadata": {},
   "outputs": [
    {
     "name": "stdout",
     "output_type": "stream",
     "text": [
      "Found 92 solutions!\n"
     ]
    }
   ],
   "source": [
    "std::ifstream in(\"count.txt\");\n",
    "std::string text;\n",
    "std::getline(in, text);\n",
    "in.close();\n",
    "\n",
    "if (text != \"92\") {\n",
    "    // Reset file for safety\n",
    "    std::ofstream solutions(\"solutions.txt\");\n",
    "    solutions.close();\n",
    "    \n",
    "    int counter = 0;\n",
    "    \n",
    "    // Try an initial guess for each row of column 0\n",
    "    for (int row = 0; row < 8; ++row) {\n",
    "        std::unordered_set<int> queens;\n",
    "        std::unordered_set<int> validRows({0, 1, 2, 3, 4, 5, 6, 7});\n",
    "        std::unordered_set<int> validRightDiagonals({-7, -6, -5, -4, -3, -2, -1, 0, 1, 2, 3, 4, 5, 6, 7});\n",
    "        std::unordered_set<int> validLeftDiagonals({0, 1, 2, 3, 4, 5, 6, 7, 8, 9, 10, 11, 12, 13, 14});\n",
    "        queens.insert(row);\n",
    "        solver(queens, 0, row , validRows, validRightDiagonals, validLeftDiagonals, &counter);\n",
    "    }\n",
    "    \n",
    "    printf(\"Found %i solutions!\\n\", counter);\n",
    "    \n",
    "    // Write number of solutions to another file\n",
    "    std::ofstream out(\"count.txt\");\n",
    "    out << counter;\n",
    "    out.close();\n",
    "}\n",
    "else\n",
    "    printf(\"Problem already solved, check the solutions.txt file\\n\");"
   ]
  },
  {
   "cell_type": "markdown",
   "id": "0eb4688e",
   "metadata": {},
   "source": [
    "#### Specific Time Complexity\n",
    "\n",
    "To obtain the specific time complexity we are going to use the same method, add a counter for instructions and increment it with the number of steps done in our model as the program progresses. Yet again we will avoid writing to the file so we will only execute the function when the condition `text != \"92\"` holds and avoid modifying the `count.txt` file.\n",
    " \n",
    "Since this algorithm does not support a value given by a user like another number of queens to use it will always be executed equally and thus it cannot grow in size. That means its complexity is constant and therefore the number of steps can be counted by the following program"
   ]
  },
  {
   "cell_type": "code",
   "execution_count": 12,
   "id": "ebcf5f8f",
   "metadata": {},
   "outputs": [
    {
     "name": "stdout",
     "output_type": "stream",
     "text": [
      "Found 92 solutions!\n",
      "The algorithm will always execute 253717 instructions"
     ]
    }
   ],
   "source": [
    "int instructions = 6; // Weight of commented code\n",
    "/*std::ifstream in(\"count.txt\");\n",
    "std::string text;\n",
    "std::getline(in, text);\n",
    "in.close();*/\n",
    "\n",
    "instructions += 1; // Weight\n",
    "//if (text != \"92\") {\n",
    "    instructions += 2; // Weight\n",
    "\n",
    "    // Reset file for safety\n",
    "    std::ofstream solutions(\"solutions.txt\");\n",
    "    \n",
    "    instructions += 2; // Weight\n",
    "    solutions.close();\n",
    "    \n",
    "    instructions += 2; // Weight\n",
    "    int counter = 0;\n",
    "    \n",
    "    instructions += 2; // Weight\n",
    "    // Try an initial guess for each row of column 0\n",
    "    for (int row = 0; row < 8; ++row) {\n",
    "        instructions += 1; // Comparison Weight\n",
    "        \n",
    "        instructions += 1; // Weight\n",
    "        std::unordered_set<int> queens;\n",
    "        \n",
    "        instructions += 9; // Weight\n",
    "        std::unordered_set<int> validRows({0, 1, 2, 3, 4, 5, 6, 7});\n",
    "        \n",
    "        instructions += 16; // Weight\n",
    "        std::unordered_set<int> validRightDiagonals({-7, -6, -5, -4, -3, -2, -1, 0, 1, 2, 3, 4, 5, 6, 7});\n",
    "        \n",
    "        instructions += 16; // Weight\n",
    "        std::unordered_set<int> validLeftDiagonals({0, 1, 2, 3, 4, 5, 6, 7, 8, 9, 10, 11, 12, 13, 14});\n",
    "        \n",
    "        instructions += 2; // Weight\n",
    "        queens.insert(row);\n",
    "        \n",
    "        solverCounter(queens, 0, row , validRows, validRightDiagonals, validLeftDiagonals, &counter, &instructions);\n",
    "    }\n",
    "    \n",
    "    instructions += 1; // Weight\n",
    "    printf(\"Found %i solutions!\\n\", counter);\n",
    "    \n",
    "    instructions += 5; // Weight of file manipulation\n",
    "    // Write number of solutions to another file\n",
    "    /*std::ofstream out(\"count.txt\");\n",
    "    out << counter;\n",
    "    out.close();*/\n",
    "//}\n",
    "//else\n",
    "    //printf(\"Problem already solved, check the solutions.txt file\\n\");\n",
    "printf(\"The algorithm will always execute %i instructions\", instructions);"
   ]
  },
  {
   "cell_type": "markdown",
   "id": "31ce23ad",
   "metadata": {},
   "source": [
    "As shown by the output and following from the previous argumentation, the specific complexity of the algorithm is\n",
    "$$\\bigO{253717}.$$\n",
    "\n",
    "#### General Time Complexity\n",
    "\n",
    "$$\\bigO{1}.$$"
   ]
  }
 ],
 "metadata": {
  "kernelspec": {
   "display_name": "C++17",
   "language": "C++17",
   "name": "xcpp17"
  },
  "language_info": {
   "codemirror_mode": "text/x-c++src",
   "file_extension": ".cpp",
   "mimetype": "text/x-c++src",
   "name": "c++",
   "version": "17"
  }
 },
 "nbformat": 4,
 "nbformat_minor": 5
}
